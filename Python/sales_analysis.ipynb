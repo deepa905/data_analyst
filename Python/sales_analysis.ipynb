import pandas as pd
import matplotlib.pyplot as plt

df = pd.read_csv("Data/cleaned_data.csv")

# 1. Monthly Sales Trend
monthly_sales = df.groupby('Order_Month')['Sales'].sum()
monthly_sales.plot(kind='bar', title='Monthly Sales Trend')
plt.savefig('Images/monthly_sales.png')  # For Power BI

# 2. Profitability by Category
profit_by_category = df.groupby('Category')['Profit_Margin'].mean()
profit_by_category.plot(kind='pie', autopct='%1.1f%%')
